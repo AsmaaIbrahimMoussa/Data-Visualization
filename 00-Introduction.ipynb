{
 "cells": [
  {
   "cell_type": "markdown",
   "id": "83b73b94",
   "metadata": {},
   "source": [
    "# Introduction to Data Visualization"
   ]
  },
  {
   "cell_type": "markdown",
   "id": "602ad6d6",
   "metadata": {},
   "source": [
    "## Why Data Visualization?\n",
    "- Helps in understanding **patterns**, **trends**, and **outliers**\n",
    "- Makes data more **accessible** and **explainable**\n",
    "- Essential in **data analysis**, **exploratory data analysis (EDA)**, and **machine learning workflows**"
   ]
  },
  {
   "cell_type": "markdown",
   "id": "64f22d7c",
   "metadata": {},
   "source": [
    "## Data Visualization Libraries\n",
    "**Matplotlib**:\n",
    "- A **low-level** library for creating static, animated, and interactive visualizations in Python.\n",
    "- Gives full control, great for customization.\n",
    "\n",
    "**Seaborn**:\n",
    "- A **high-level** interface built on top of Matplotlib.\n",
    "- Easier to use, works directly with pandas DataFrames.\n",
    "- Helps create **visually appealing and informative** statistical plots."
   ]
  },
  {
   "cell_type": "markdown",
   "id": "3cf133ca",
   "metadata": {},
   "source": [
    "## When to Use Which Plot?\n",
    "\n",
    "- **Line Plot**: Use when your X-axis is continuous (e.g., time, age).\n",
    "- **Histogram**: Ideal for visualizing the distribution of one numeric variable.\n",
    "- **Pie Chart**: Use to show proportions of a whole — best with few categories.\n",
    "- **Scatter Plot**: Great for exploring relationships between two numerical variables.\n",
    "- **Box Plot**: Best for spotting outliers and comparing distributions.\n",
    "- **Heatmap**: Useful for showing correlation or intensity across a matrix.\"\n"
   ]
  }
 ],
 "metadata": {
  "language_info": {
   "name": "python"
  }
 },
 "nbformat": 4,
 "nbformat_minor": 5
}
